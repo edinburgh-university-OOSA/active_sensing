{
 "cells": [
  {
   "cell_type": "markdown",
   "id": "e91ed1d2",
   "metadata": {},
   "source": [
    "# Signal processing\n",
    "\n",
    "This notebook will demonstrate some signal processing methods for determining range with an active remote sensing system. The next block of code can make and plot different pulse shapes. Select and run to define the functions. All the functions needed in this practical are in the **signalLib.py** file in this directory."
   ]
  },
  {
   "cell_type": "code",
   "execution_count": null,
   "id": "8eede832",
   "metadata": {},
   "outputs": [],
   "source": [
    "# import functions needed\n",
    "from signalLib import *\n",
    "        \n",
    "        \n",
    "########################\n",
    "# Set and plot a pulse\n",
    "\n",
    "mode=\"gauss\"    # the type of pulse. \"gauss\" or \"chirp\"\n",
    "sigma=0.2       # 1 m width\n",
    "E=1.0           # amount of energy in pulse\n",
    "sFreq=100000    # start frequency in Hz\n",
    "eFreq=1000000000# emd frequency in Hz\n",
    "\n",
    "pulse=setPulse(sigma,mode,sFreq=sFreq,eFreq=eFreq)\n",
    "pulse.plotPulse()\n"
   ]
  },
  {
   "cell_type": "markdown",
   "id": "42088179",
   "metadata": {},
   "source": [
    "## Changing the pulse shape\n",
    "\n",
    "Have a go at making differtent pulse shapes by changing \"mode\", \"sigma\", \"sFreq\" and \"eFreq\" in the code block below. Try keeping the mode as \"gauss\" and answer the following.\n",
    "\n",
    "1. What happens when you increase \"sigma\" for a Gaussian pulse?\n",
    "2. What happens to the peak intensity when you decrease sigma for a Gaussian pulse?\n",
    "3. What happens when you make sigma less than 0.2?"
   ]
  },
  {
   "cell_type": "code",
   "execution_count": null,
   "id": "fed4c25e",
   "metadata": {},
   "outputs": [],
   "source": [
    "# pulse properties\n",
    "mode=\"gauss\"    # the type of pulse. \"gauss\" or \"chirp\"\n",
    "sigma=0.1       # 1 m width\n",
    "\n",
    "\n",
    "# set and plot a pulse with the properties from above\n",
    "pulse=setPulse(sigma,mode)\n",
    "pulse.plotPulse()\n"
   ]
  },
  {
   "cell_type": "markdown",
   "id": "11307faf",
   "metadata": {},
   "source": [
    "## Pulse shape accuracy\n",
    "\n",
    "You should notice that the pulse gets less smooth if the width is narrowed. This is because by default the pulse is sampled every 10 cm, leading to a poor representation of the shape. This can cause issues when pattern matching, especially for complex pulse shapes.\n",
    "\n",
    "Change the mode to \"chirp\" and repeat the questions.\n",
    "\n",
    "1. Plot a chirp\n",
    "2. For the same total energy, how does the peak intensity compare to a Gaussian pulse?\n",
    "3. The high-frequency part of the pulse contains \"aliasing\". Try and remove this by adjusting the resolution. What resolution removes the aliasing?\n",
    "4. What happens if you change the end frequency \"eFreq\"?"
   ]
  },
  {
   "cell_type": "code",
   "execution_count": null,
   "id": "1916129d",
   "metadata": {},
   "outputs": [],
   "source": [
    "# pulse properties\n",
    "mode=\"chirp\"   # the type of pulse. \"gauss\" or \"chirp\"\n",
    "sigma=50       # 50 m width\n",
    "E=1.           # total energy in the pulse\n",
    "res=0.1        # 10 cm resolution\n",
    "sFreq=10**6    # chirp start frequency. 1 MHz\n",
    "eFreq=10**9    # chirp end frequency. 1 GHz\n",
    "\n",
    "\n",
    "# set and plot a pulse with the properties from above\n",
    "pulse=setPulse(sigma,mode,res=res,E=E,sFreq=sFreq,eFreq=eFreq)\n",
    "pulse.plotPulse()\n"
   ]
  },
  {
   "cell_type": "markdown",
   "id": "6c615436",
   "metadata": {},
   "source": [
    "## Sampling a pulse\n",
    "\n",
    "A rule of thumb for recognising shapes is that they need to be sampled at twice the frequency as the highest frequency within the shape. For a chirp this is twice the frequency of the end frequency. For a Gaussian it is a little more complicated as the effecgive frequency of the shape changes across it, but for now only worry about it for chirps."
   ]
  },
  {
   "cell_type": "markdown",
   "id": "97a654e2",
   "metadata": {},
   "source": [
    "## Pulses interacting with a target\n",
    "\n",
    "When a pulse is emitted from an active remote sensing instrument that pulse will reflect from every part of the target. This can be represented by \"convolving\" the target profile (graph of reflections with range) with the pulse shape to give the returned energy profile. The code below will create a target profile with \"N\" scattering objects separated by \"sep\" metres and then plot the convolution of that with the pulse.\n",
    "\n",
    "For a Gaussian pulse\n",
    "\n",
    "1. What does the return look like for a single target with sigma=1m (roughly GEDI)\n",
    "2. What happens if the pulse width increases to 3m?\n",
    "3. What happens for two targets (N=2) separated by 1 m each?\n",
    "4. Adjust the spacing or pulse width to get two resolved targets"
   ]
  },
  {
   "cell_type": "code",
   "execution_count": null,
   "id": "08c7b8aa",
   "metadata": {},
   "outputs": [],
   "source": [
    "# pulse properties\n",
    "mode=\"gauss\"   # the type of pulse. \"gauss\" or \"chirp\"\n",
    "sigma=1        # 1 m width\n",
    "E=1.           # total energy in the pulse\n",
    "res=0.1        # 10 cm resolution\n",
    "sFreq=10**6    # chirp start frequency. 1 MHz\n",
    "eFreq=10**9    # chirp end frequency. 1 GHz\n",
    "\n",
    "# target properties\n",
    "N=1       # scattering object\n",
    "sep=1.0   # 1 m between scattering objects if N>1\n",
    "\n",
    "\n",
    "# set pulse and target propertries\n",
    "pulse=setPulse(sigma,mode,res=res,E=E,sFreq=sFreq,eFreq=eFreq)\n",
    "pulse.setTarget(N,sep)\n",
    "\n",
    "# convolve and plot\n",
    "pulse.convolve()\n",
    "pulse.plotConv()\n"
   ]
  },
  {
   "cell_type": "markdown",
   "id": "b25bf6d5",
   "metadata": {},
   "source": [
    "By adjusting the above parameters you should be able to see the issues about pulse width controlling range resolution mentioned in the lecture.\n",
    "\n",
    "\n",
    "# Chirped pulse\n",
    "\n",
    "Now try a chirped pulse. The returned profile will be harder to interpret by eye."
   ]
  },
  {
   "cell_type": "code",
   "execution_count": null,
   "id": "0e14aac0",
   "metadata": {},
   "outputs": [],
   "source": [
    "# pulse properties\n",
    "mode=\"chirp\"   # the type of pulse. \"gauss\" or \"chirp\"\n",
    "sigma=100      # 100 m width\n",
    "E=1.           # total energy in the pulse\n",
    "res=0.1        # 10 cm resolution\n",
    "sFreq=10**6    # chirp start frequency. 1 MHz\n",
    "eFreq=10**9    # chirp end frequency. 1 GHz\n",
    "\n",
    "# target properties\n",
    "N=1       # scattering object\n",
    "sep=1.0   # 1 m between scattering objects if N>1\n",
    "\n",
    "\n",
    "# set pulse and target propertries\n",
    "pulse=setPulse(sigma,mode,res=res,E=E,sFreq=sFreq,eFreq=eFreq)\n",
    "pulse.setTarget(N,sep)\n",
    "\n",
    "# convolve and plot\n",
    "pulse.convolve()\n",
    "pulse.plotConv()"
   ]
  },
  {
   "cell_type": "markdown",
   "id": "f76ba85a",
   "metadata": {},
   "source": [
    "## Correlation\n",
    "\n",
    "We can use a correlation operation to reduce the effective pulse width of a chirp."
   ]
  },
  {
   "cell_type": "code",
   "execution_count": null,
   "id": "f4e21385",
   "metadata": {},
   "outputs": [],
   "source": [
    "# pulse properties\n",
    "mode=\"chirp\"   # the type of pulse. \"gauss\" or \"chirp\"\n",
    "sigma=100        # 1 m width\n",
    "E=1.           # total energy in the pulse\n",
    "res=0.1        # 10 cm resolution\n",
    "sFreq=10**6    # chirp start frequency. 1 MHz\n",
    "eFreq=10**9    # chirp end frequency. 1 GHz\n",
    "\n",
    "# target properties\n",
    "N=1       # scattering object\n",
    "sep=1.0   # 1 m between scattering objects if N>1\n",
    "\n",
    "\n",
    "# set pulse and target propertries\n",
    "pulse=setPulse(sigma,mode,res=res,E=E,sFreq=sFreq,eFreq=eFreq)\n",
    "pulse.setTarget(N,sep)\n",
    "\n",
    "# convolve, correlate and plot\n",
    "pulse.convolve()\n",
    "pulse.correlate()\n",
    "pulse.plotCorrel()"
   ]
  },
  {
   "cell_type": "markdown",
   "id": "a3fe5788",
   "metadata": {},
   "source": [
    "1. What happens to the correlated profile when the start and end frequency are changed?\n",
    "2. What happens to the correlated profile when the resolution is changed?"
   ]
  },
  {
   "cell_type": "code",
   "execution_count": null,
   "id": "45f25df4",
   "metadata": {},
   "outputs": [],
   "source": [
    "# pulse properties\n",
    "mode=\"chirp\"   # the type of pulse. \"gauss\" or \"chirp\"\n",
    "sigma=100        # 1 m width\n",
    "E=1.           # total energy in the pulse\n",
    "res=0.1        # 10 cm resolution\n",
    "sFreq=10**6    # chirp start frequency. 1 MHz\n",
    "eFreq=10**9    # chirp end frequency. 1 GHz\n",
    "\n",
    "# target properties\n",
    "N=1       # scattering object\n",
    "sep=1.0   # 1 m between scattering objects if N>1\n",
    "\n",
    "\n",
    "# set pulse and target propertries\n",
    "pulse=setPulse(sigma,mode,res=res,E=E,sFreq=sFreq,eFreq=eFreq)\n",
    "pulse.setTarget(N,sep)\n",
    "\n",
    "# convolve, correlate and plot\n",
    "pulse.convolve()\n",
    "pulse.correlate()\n",
    "pulse.plotCorrel()"
   ]
  }
 ],
 "metadata": {
  "kernelspec": {
   "display_name": "Python 3 (ipykernel)",
   "language": "python",
   "name": "python3"
  },
  "language_info": {
   "codemirror_mode": {
    "name": "ipython",
    "version": 3
   },
   "file_extension": ".py",
   "mimetype": "text/x-python",
   "name": "python",
   "nbconvert_exporter": "python",
   "pygments_lexer": "ipython3",
   "version": "3.11.5"
  }
 },
 "nbformat": 4,
 "nbformat_minor": 5
}
