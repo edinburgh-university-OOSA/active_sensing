{
 "cells": [
  {
   "cell_type": "markdown",
   "id": "29e4d626",
   "metadata": {},
   "source": [
    "# EM Scatter Demonstration\n",
    "\n",
    "This notebook demonstrates the scattering of "
   ]
  },
  {
   "cell_type": "code",
   "execution_count": null,
   "id": "56b565a0",
   "metadata": {},
   "outputs": [],
   "source": [
    "# This line must be run for all others to work\n",
    "\n",
    "# import library functions needed\n",
    "# note that this imports all other needed libraries\n",
    "from scatterFunctions import scatterDemo"
   ]
  },
  {
   "cell_type": "code",
   "execution_count": null,
   "id": "a4e50868",
   "metadata": {},
   "outputs": [],
   "source": []
  }
 ],
 "metadata": {
  "kernelspec": {
   "display_name": "Python 3 (ipykernel)",
   "language": "python",
   "name": "python3"
  },
  "language_info": {
   "codemirror_mode": {
    "name": "ipython",
    "version": 3
   },
   "file_extension": ".py",
   "mimetype": "text/x-python",
   "name": "python",
   "nbconvert_exporter": "python",
   "pygments_lexer": "ipython3",
   "version": "3.9.12"
  }
 },
 "nbformat": 4,
 "nbformat_minor": 5
}
