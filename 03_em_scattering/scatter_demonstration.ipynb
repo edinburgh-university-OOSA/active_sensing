{
 "cells": [
  {
   "cell_type": "markdown",
   "id": "45f67e80",
   "metadata": {},
   "source": [
    "# EM Scatter Demonstration\n",
    "\n",
    "This notebook demonstrates the scattering of \n",
    "\n",
    "## Generate a target surface\n",
    "\n",
    "The lines below define a large scale roughness (elevation variability), correlation length scale and fine texture roughness. Running the will generate a surface and then make a graph of it.\n",
    "\n",
    "1) Try modifying the roughness and correlation values to see how it affects your surface"
   ]
  },
  {
   "cell_type": "code",
   "execution_count": null,
   "id": "a4e50868",
   "metadata": {},
   "outputs": [],
   "source": [
    "# This line must be run for all others to work\n",
    "\n",
    "# import library functions needed\n",
    "# note that this imports all other needed libraries\n",
    "from scatterFunctions import scatterDemo\n",
    "\n",
    "\n",
    "# create a surface with a given set of properties\n",
    "\n",
    "# surface parameters\n",
    "roughness=0.2   # large-scale roughness\n",
    "correlScale=1.0 # spatial correlation of large-scale roughness\n",
    "fineRough=0.001 # fine scale roughness on top of large-scale roughness\n",
    "\n",
    "# Other factors that you could adjust if you want to, but do not need to\n",
    "# length is the length of the object in metres\n",
    "# res gives the resolution of the ground sampling in metres\n",
    "# rho is the single scattering reflectance\n",
    "\n",
    "\n",
    "# generate a surface\n",
    "demo=scatterDemo()\n",
    "demo.makeSurface(rough=roughness,correl=correlScale,fineRough=fineRough,length=30.0)\n",
    "\n",
    "\n",
    "# plot it to check\n",
    "demo.plotSurface()\n"
   ]
  },
  {
   "cell_type": "markdown",
   "id": "f02825cc",
   "metadata": {},
   "source": [
    "## Scattering\n",
    "\n",
    "We can simulatue how an EM beam would scatter from the surface. The functions below take a wavelength and an illumination angle and plots the reflected energy as a function of angle.\n",
    "\n",
    "See how the reflected energy pattern changes when you:\n",
    "\n",
    "1) Modify the view angle\n",
    "2) Modify the surface properties in the box above\n",
    "3) Modify the wavelength"
   ]
  },
  {
   "cell_type": "code",
   "execution_count": null,
   "id": "0fd58bcf",
   "metadata": {},
   "outputs": [],
   "source": [
    "# illuminating energy properites\n",
    "zen=0.0     # Zenith angle. 0 is straight down.\n",
    "wavel=0.06  # wavelength. 6 cm is Sentinel-1\n",
    "\n",
    "# trace the energy\n",
    "demo.interfereWaves(zen=zen,wavel=wavel)\n",
    "\n",
    "# plot results\n",
    "demo.plotEnergy()\n"
   ]
  },
  {
   "cell_type": "code",
   "execution_count": null,
   "id": "83216803",
   "metadata": {},
   "outputs": [],
   "source": []
  }
 ],
 "metadata": {
  "kernelspec": {
   "display_name": "Python 3 (ipykernel)",
   "language": "python",
   "name": "python3"
  },
  "language_info": {
   "codemirror_mode": {
    "name": "ipython",
    "version": 3
   },
   "file_extension": ".py",
   "mimetype": "text/x-python",
   "name": "python",
   "nbconvert_exporter": "python",
   "pygments_lexer": "ipython3",
   "version": "3.9.12"
  }
 },
 "nbformat": 4,
 "nbformat_minor": 5
}
