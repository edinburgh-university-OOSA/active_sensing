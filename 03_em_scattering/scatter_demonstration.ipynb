{
 "cells": [
  {
   "cell_type": "markdown",
   "id": "29e4d626",
   "metadata": {},
   "source": [
    "# EM Scatter Demonstration\n",
    "\n",
    "This notebook demonstrates the scattering of "
   ]
  },
  {
   "cell_type": "code",
   "execution_count": null,
   "id": "56b565a0",
   "metadata": {},
   "outputs": [],
   "source": [
    "# This line must be run for all others to work\n",
    "\n",
    "# import library functions needed\n",
    "# note that this imports all other needed libraries\n",
    "from scatterFunctions import scatterDemo"
   ]
  },
  {
   "cell_type": "markdown",
   "id": "45f67e80",
   "metadata": {},
   "source": [
    "## Part 1\n",
    "\n",
    "Instructions to be added here."
   ]
  },
  {
   "cell_type": "code",
   "execution_count": null,
   "id": "a4e50868",
   "metadata": {},
   "outputs": [],
   "source": [
    "# create a surface with properties\n",
    "\n",
    "roughness=0.1\n",
    "\n",
    "demo=scatterDemo()\n",
    "demo.makeSurface(rough=roughness)\n",
    "\n",
    "\n",
    "# plot it to check\n",
    "demo.plotSurface()\n"
   ]
  },
  {
   "cell_type": "code",
   "execution_count": null,
   "id": "70d97c7a",
   "metadata": {},
   "outputs": [],
   "source": []
  }
 ],
 "metadata": {
  "kernelspec": {
   "display_name": "Python 3 (ipykernel)",
   "language": "python",
   "name": "python3"
  },
  "language_info": {
   "codemirror_mode": {
    "name": "ipython",
    "version": 3
   },
   "file_extension": ".py",
   "mimetype": "text/x-python",
   "name": "python",
   "nbconvert_exporter": "python",
   "pygments_lexer": "ipython3",
   "version": "3.9.12"
  }
 },
 "nbformat": 4,
 "nbformat_minor": 5
}
