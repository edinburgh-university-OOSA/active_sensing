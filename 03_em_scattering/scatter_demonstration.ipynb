{
 "cells": [
  {
   "cell_type": "markdown",
   "id": "45f67e80",
   "metadata": {},
   "source": [
    "# EM Scatter Demonstration\n",
    "\n",
    "This notebook demonstrates the scattering of \n",
    "\n",
    "## Generate a target surface\n",
    "\n",
    "The lines below define a large scale roughness (elevation variability), correlation length scale and fine texture roughness. Running the will generate a surface and then make a graph of it."
   ]
  },
  {
   "cell_type": "code",
   "execution_count": null,
   "id": "a4e50868",
   "metadata": {},
   "outputs": [],
   "source": [
    "# import library functions needed\n",
    "# note that this imports all other needed libraries\n",
    "from scatterFunctions import scatterDemo\n",
    "\n",
    "\n",
    "# create a surface with a given set of properties\n",
    "\n",
    "# surface parameters. The defaults are a flat plane\n",
    "roughness=0.0   # large-scale roughness\n",
    "correlScale=0.0 # spatial correlation of large-scale roughness\n",
    "fineRough=0.0 # fine scale roughness on top of large-scale roughness\n",
    "\n",
    "# Other factors that you could adjust if you want to, but do not need to\n",
    "# length is the length of the object in metres\n",
    "# res gives the resolution of the ground sampling in metres\n",
    "# rho is the single scattering reflectance\n",
    "\n",
    "\n",
    "# generate a surface\n",
    "demo=scatterDemo()\n",
    "demo.makeSurface(rough=roughness,correl=correlScale,fineRough=fineRough,length=30.0)\n",
    "\n",
    "\n",
    "# plot the surface\n",
    "demo.plotSurface()\n"
   ]
  },
  {
   "cell_type": "markdown",
   "id": "f02825cc",
   "metadata": {},
   "source": [
    "## Scattering\n",
    "\n",
    "We can simulatue how an EM beam would scatter from the surface. The functions below take a wavelength and an illumination angle and plots the reflected energy as a function of angle. More yellow areas have more enerngy. The defaults are for a flat plane.\n",
    "\n",
    "1) What happens as you change the zenith angle of incidence?"
   ]
  },
  {
   "cell_type": "code",
   "execution_count": null,
   "id": "0fd58bcf",
   "metadata": {},
   "outputs": [],
   "source": [
    "# illuminating energy properites\n",
    "zen=10.0     # Zenith angle of incidence. 0 is straight down. +ve is to the right. -ve to the left.\n",
    "wavel=0.6    # wavelength. 60 cm is ESA-BIOMASS\n",
    "\n",
    "# trace the energy\n",
    "demo.interfereWaves(zen=zen,wavel=wavel)\n",
    "\n",
    "# plot results\n",
    "demo.plotEnergy()\n"
   ]
  },
  {
   "cell_type": "markdown",
   "id": "000f73a2",
   "metadata": {},
   "source": [
    "## Scattering from rough surfaces\n",
    "\n",
    "See how the reflected energy pattern changes when you:\n",
    "\n",
    "1) Modify the surface properties\n",
    "2) Modify the wavelength\n",
    "3) Modify the illumination zenith angle\n"
   ]
  },
  {
   "cell_type": "code",
   "execution_count": null,
   "id": "99f6e744",
   "metadata": {},
   "outputs": [],
   "source": [
    "# surface parameters.\n",
    "roughness=0.01   # large-scale roughness\n",
    "correlScale=0.0 # spatial correlation of large-scale roughness\n",
    "fineRough=0.025  # fine scale roughness on top of large-scale roughness\n",
    "# illuminatino prameters\n",
    "zen=10.0     # Zenith angle of incidence. 0 is straight down.\n",
    "wavel=0.6    # wavelength. 60 cm is ESA-BIOMASS\n",
    "\n",
    "\n",
    "# generate a surface\n",
    "demo=scatterDemo()\n",
    "demo.makeSurface(rough=roughness,correl=correlScale,fineRough=fineRough,length=30.0)\n",
    "demo.plotSurface()\n",
    "# trace and plot the energy\n",
    "demo.interfereWaves(zen=zen,wavel=wavel)\n",
    "demo.plotEnergy()"
   ]
  },
  {
   "cell_type": "markdown",
   "id": "46bd06c5",
   "metadata": {},
   "source": [
    "## Definition of rougness\n",
    "\n",
    "1) Determine the relationship between roughness and wavelength needed for specular reflection\n",
    "2) Does this agree with the theory in the lecture notes?"
   ]
  },
  {
   "cell_type": "code",
   "execution_count": null,
   "id": "eac851b1",
   "metadata": {},
   "outputs": [],
   "source": [
    "# surface parameters.\n",
    "roughness=1.0   # large-scale roughness\n",
    "correlScale=0.0 # spatial correlation of large-scale roughness\n",
    "fineRough=0.0  # fine scale roughness on top of large-scale roughness\n",
    "# illuminatino prameters\n",
    "zen=10.0     # Zenith angle of incidence. 0 is straight down.\n",
    "wavel=1.0    # wavelength. 60 cm is ESA-BIOMASS\n",
    "\n",
    "\n",
    "# generate a surface\n",
    "demo=scatterDemo()\n",
    "demo.makeSurface(rough=roughness,correl=correlScale,fineRough=fineRough,length=30.0)\n",
    "demo.plotSurface()\n",
    "# trace and plot the energy\n",
    "demo.interfereWaves(zen=zen,wavel=wavel)\n",
    "demo.plotEnergy()"
   ]
  }
 ],
 "metadata": {
  "kernelspec": {
   "display_name": "Python 3 (ipykernel)",
   "language": "python",
   "name": "python3"
  },
  "language_info": {
   "codemirror_mode": {
    "name": "ipython",
    "version": 3
   },
   "file_extension": ".py",
   "mimetype": "text/x-python",
   "name": "python",
   "nbconvert_exporter": "python",
   "pygments_lexer": "ipython3",
   "version": "3.9.12"
  }
 },
 "nbformat": 4,
 "nbformat_minor": 5
}
