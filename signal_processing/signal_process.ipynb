{
 "cells": [
  {
   "cell_type": "markdown",
   "id": "e91ed1d2",
   "metadata": {},
   "source": [
    "# Signal processing\n",
    "\n",
    "This notebook will demonstrate some signal processing methods for determining range with an active remote sensingf system."
   ]
  },
  {
   "cell_type": "code",
   "execution_count": null,
   "id": "8eede832",
   "metadata": {},
   "outputs": [],
   "source": []
  }
 ],
 "metadata": {
  "kernelspec": {
   "display_name": "Python 3 (ipykernel)",
   "language": "python",
   "name": "python3"
  },
  "language_info": {
   "codemirror_mode": {
    "name": "ipython",
    "version": 3
   },
   "file_extension": ".py",
   "mimetype": "text/x-python",
   "name": "python",
   "nbconvert_exporter": "python",
   "pygments_lexer": "ipython3",
   "version": "3.9.12"
  }
 },
 "nbformat": 4,
 "nbformat_minor": 5
}
