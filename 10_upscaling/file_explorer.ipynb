{
 "cells": [
  {
   "cell_type": "markdown",
   "id": "d5045f3c",
   "metadata": {},
   "source": [
    "# Explore a GEDI L4A file\n",
    "\n",
    "This is a simple python script to explore a GEDI L4B file. It opens a single file and then prints out the contents. To run a cell of code, click on the cell and press the **\"> Run\"** button above. You will need to run the code in the correct order, otherwaise it may through an error. To restart and run all the code in order, you can click on the \"**kernel -> Restart & Run All**\" button above.\n",
    "\n",
    "Run the code below to load all the libraries you will need. The code to open and handle the data is stored within gediL4Areader.py"
   ]
  },
  {
   "cell_type": "code",
   "execution_count": null,
   "id": "0f4642ce",
   "metadata": {},
   "outputs": [],
   "source": [
    "# this will load all the libraries and tools you need\n",
    "import numpy as np\n",
    "from gediL4Areader import gediL4A"
   ]
  },
  {
   "cell_type": "markdown",
   "id": "8a0878f2",
   "metadata": {},
   "source": [
    "## Open a GEDI file\n",
    "\n",
    "The tools we have loaded can be run to open a GEDI L4A file. The GEDI data is stored in a HDF5 file, which is described [here](https://daac.ornl.gov/GEDI/guides/GEDI_L4A_AGB_Density.html). This effectively allows a whole file structure to be stored.. To do that and print out the contents, run the code below:"
   ]
  },
  {
   "cell_type": "code",
   "execution_count": null,
   "id": "625bd4f5",
   "metadata": {},
   "outputs": [],
   "source": [
    "# filename to open\n",
    "filename='/Users/dougal/data/teaching/active_sensing/10_fusion/gedi/L4A/small.GEDI04_A_2020173201139_O08642_03_T02179_02_002_02_V002.h5'\n",
    "\n",
    "# read the data\n",
    "data=gediL4A(filename)\n",
    "\n",
    "# print out some of the contents\n",
    "data.printHeaders()"
   ]
  },
  {
   "cell_type": "markdown",
   "id": "ef4191d7",
   "metadata": {},
   "source": [
    "This shows that this file has 8 beams and some ancillary data. Note that because these files are subset, not all files will contain all beams. The numbers after the beam tell you which are power beams and which are coverage:\n",
    "\n",
    "* **BEAM0000** is a Coverage beam\n",
    "* **BEAM0001** is a Coverage beam \n",
    "* **BEAM0010** is a Coverage beam \n",
    "* **BEAM0011** is a Coverage beam \n",
    "* **BEAM0101** is a Full power beam \n",
    "* **BEAM0110** is a Full power beam \n",
    "* **BEAM1000** is a Full power beam \n",
    "* **BEAM1011** is a Full power beam\n",
    "\n",
    "The python code has read the following variables:\n",
    "\n",
    "* **lat** - latitude (EPSG:4326)\n",
    "* **lon** - longitude (EPSG:4326)\n",
    "* **agbd** - aboveground biomass density (Mg/ha)\n",
    "* **quality** - a quality flag. 0 for bad quality, 1 for good\n",
    "* **sensitivity** - beam sensitivity as a fraction (0-1)\n",
    "\n",
    "\n",
    "For this example, the poor quality data (quality==0) data will is filtered out by the code below"
   ]
  },
  {
   "cell_type": "code",
   "execution_count": null,
   "id": "79691266",
   "metadata": {},
   "outputs": [],
   "source": [
    "# filter out poor quality data\n",
    "data.filterQuality()"
   ]
  },
  {
   "cell_type": "markdown",
   "id": "43335334",
   "metadata": {},
   "source": [
    "Now let's plot the location of the footprints. What do you notice about the data?"
   ]
  },
  {
   "cell_type": "code",
   "execution_count": null,
   "id": "1fe10a7f",
   "metadata": {},
   "outputs": [],
   "source": [
    "data.plotCoords()"
   ]
  },
  {
   "cell_type": "markdown",
   "id": "f59f9049",
   "metadata": {},
   "source": [
    "Let's make a histogram of the biomass and the beam sensitivity."
   ]
  },
  {
   "cell_type": "code",
   "execution_count": null,
   "id": "62c04388",
   "metadata": {},
   "outputs": [],
   "source": [
    "data.plotHistogram()"
   ]
  }
 ],
 "metadata": {
  "kernelspec": {
   "display_name": "Python 3 (ipykernel)",
   "language": "python",
   "name": "python3"
  },
  "language_info": {
   "codemirror_mode": {
    "name": "ipython",
    "version": 3
   },
   "file_extension": ".py",
   "mimetype": "text/x-python",
   "name": "python",
   "nbconvert_exporter": "python",
   "pygments_lexer": "ipython3",
   "version": "3.9.12"
  }
 },
 "nbformat": 4,
 "nbformat_minor": 5
}
