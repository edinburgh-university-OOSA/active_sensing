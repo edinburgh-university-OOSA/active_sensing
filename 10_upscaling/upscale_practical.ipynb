{
 "cells": [
  {
   "cell_type": "markdown",
   "id": "70bc82dc",
   "metadata": {},
   "source": [
    "# Upscale GEDI biomass with PALSAR-2 backscatter\n",
    "\n",
    "This practical will take the GEDI data we used in the last notebook, overlay it with PALSAR data and look for a relationship between the two. First we will load GEDI data into RAM using the same method as the last notebook."
   ]
  },
  {
   "cell_type": "code",
   "execution_count": null,
   "id": "c366cd94",
   "metadata": {},
   "outputs": [],
   "source": [
    "# import libraries\n",
    "import numpy as np\n",
    "from sys import path\n",
    "path.append(\"/geos/netdata/active_sensing/code_active/10_upscaling\")\n",
    "from gediL4Areader import gediL4A,dataTable\n",
    "\n",
    "# define a filename\n",
    "gediName='/Users/dougal/data/teaching/active_sensing/10_fusion/gedi/L4A/subset.GEDI04_A_2020178113837_O08714_02_T00308_02_002_02_V002.h5'\n",
    "\n",
    "# read the data\n",
    "gedi=gediL4A(gediName)\n",
    "\n",
    "# filter out poor quality data\n",
    "gedi.filterQuality()"
   ]
  },
  {
   "cell_type": "markdown",
   "id": "fdcdfef5",
   "metadata": {},
   "source": [
    "Now load the PALSAR data and check that it looks sensible. The files are large and this may take a minute. *Do these figures match those you have in QGIS?*"
   ]
  },
  {
   "cell_type": "code",
   "execution_count": null,
   "id": "8e6c33f4",
   "metadata": {},
   "outputs": [],
   "source": [
    "# import libraries\n",
    "import rasterio\n",
    "import matplotlib.pyplot as plt\n",
    "\n",
    "# open the two files\n",
    "palsarHHname='/Users/dougal/data/teaching/active_sensing/10_fusion/palsar/merged_HH.tif'\n",
    "palsarHVname='/Users/dougal/data/teaching/active_sensing/10_fusion/palsar/merged_HV.tif'\n",
    "palsarHH=rasterio.open(palsarHHname)\n",
    "palsarHV=rasterio.open(palsarHVname)\n",
    "\n",
    "# read the raster layers\n",
    "hh=palsarHH.read(1)\n",
    "hv=palsarHV.read(1)\n",
    "\n",
    "# plot to the screen for sanity check\n",
    "#plt.imshow(hh)\n",
    "#plt.title('HH')\n",
    "#plt.show()\n",
    "\n",
    "#plt.imshow(hv)\n",
    "#plt.title('HV')\n",
    "#plt.show()\n"
   ]
  },
  {
   "cell_type": "markdown",
   "id": "aa5b92cb",
   "metadata": {},
   "source": [
    "## Determining the relationship\n",
    "\n",
    "We have points of AGBD estimates from GEDI and a raster of backscatter from PALSAR-2. Is there a useful relationship between one and the other? To test this we need to make a table of GEDI AGBD values and backscatter from the corresponding PALSAR-2 pixels.\n",
    "\n",
    "Run the code below to make a plot and determine the linear correlation.\n",
    "\n",
    "*Which layer has the higher correlation? Why do you think that is, based on your understanding of radars?**"
   ]
  },
  {
   "cell_type": "code",
   "execution_count": null,
   "id": "0f531606",
   "metadata": {},
   "outputs": [],
   "source": [
    "# make a table from the two datasets\n",
    "mergedData=dataTable(gedi,palsarHH,hh,palsarHV,hv)\n",
    "\n",
    "# plot that table up\n",
    "mergedData.plotHH()\n",
    "mergedData.plotHV()\n",
    "\n",
    "# determine linear correlation\n",
    "mergedData.correlHH()\n",
    "mergedData.correlHV()"
   ]
  },
  {
   "cell_type": "markdown",
   "id": "2e34b530",
   "metadata": {},
   "source": [
    "## Machine learning\n",
    "\n",
    "The relationship is not entirely clear. Machine learning is a useful for finding the best relationship between a variable of interest and multiple variables of interest. Here we will use it to predict AGBD from a combination of PALSAR-2 HH and HV backscatter.\n",
    "\n",
    "We will use the random forest algoithm as implemented in the sklearn python package. The code below will split the data into a training and a validate set, then train a model to predict GEDI's AGBD from PALSAR with the table of data we have extracted and then predict biomass across all of the PALSAR data."
   ]
  },
  {
   "cell_type": "code",
   "execution_count": null,
   "id": "8791cdcd",
   "metadata": {},
   "outputs": [],
   "source": [
    "# parameters for our RF\n",
    "n_estimators=200\n",
    "max_depth=None\n",
    "\n",
    "# split into 70% training, 30% validation\n",
    "mergedData.splitData(trainFrac=0.7)\n",
    "\n",
    "# calibrate the model\n",
    "mergedData.buildRF(self,n_estimators,max_depth)\n",
    "    \n",
    "# predict the model\n",
    "mergedData.predict()"
   ]
  },
  {
   "cell_type": "markdown",
   "id": "23a5333e",
   "metadata": {},
   "source": [
    "## Validation"
   ]
  },
  {
   "cell_type": "markdown",
   "id": "25ab7ae2",
   "metadata": {},
   "source": [
    "## Spatial validation"
   ]
  },
  {
   "cell_type": "code",
   "execution_count": null,
   "id": "61342dff",
   "metadata": {},
   "outputs": [],
   "source": []
  }
 ],
 "metadata": {
  "kernelspec": {
   "display_name": "Python 3 (ipykernel)",
   "language": "python",
   "name": "python3"
  },
  "language_info": {
   "codemirror_mode": {
    "name": "ipython",
    "version": 3
   },
   "file_extension": ".py",
   "mimetype": "text/x-python",
   "name": "python",
   "nbconvert_exporter": "python",
   "pygments_lexer": "ipython3",
   "version": "3.9.12"
  }
 },
 "nbformat": 4,
 "nbformat_minor": 5
}
