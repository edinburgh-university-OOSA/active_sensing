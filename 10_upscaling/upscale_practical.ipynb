{
 "cells": [
  {
   "cell_type": "markdown",
   "id": "70bc82dc",
   "metadata": {},
   "source": [
    "# Upscale GEDI biomass with PALSAR-2 backscatter\n",
    "\n",
    "This practical will take the GEDI data we used in the last notebook and overlay it with PALSAR data."
   ]
  }
 ],
 "metadata": {
  "kernelspec": {
   "display_name": "Python 3 (ipykernel)",
   "language": "python",
   "name": "python3"
  },
  "language_info": {
   "codemirror_mode": {
    "name": "ipython",
    "version": 3
   },
   "file_extension": ".py",
   "mimetype": "text/x-python",
   "name": "python",
   "nbconvert_exporter": "python",
   "pygments_lexer": "ipython3",
   "version": "3.9.12"
  }
 },
 "nbformat": 4,
 "nbformat_minor": 5
}
