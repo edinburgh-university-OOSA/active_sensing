{
 "cells": [
  {
   "cell_type": "markdown",
   "id": "70bc82dc",
   "metadata": {},
   "source": [
    "# Upscale GEDI biomass with PALSAR-2 backscatter\n",
    "\n",
    "This practical will take the GEDI data we used in the last notebook, overlay it with PALSAR data and look for a relationship between the two. First we will load GEDI data into RAM using the same method as the last notebook.\n",
    "\n",
    "The code for these tasks is held within the ***gediL4Areader.py*** file in the same directory as this notebook."
   ]
  },
  {
   "cell_type": "code",
   "execution_count": null,
   "id": "be80a62c",
   "metadata": {},
   "outputs": [],
   "source": [
    "# import libraries\n",
    "import numpy as np\n",
    "from gediL4Areader import gediL4A,dataTable,palsar\n",
    "\n",
    "# define a filename\n",
    "gediName='/Users/dougal/data/teaching/active_sensing/10_fusion/gedi/L4A/small.GEDI04_A_2020173201139_O08642_03_T02179_02_002_02_V002.h5'\n",
    "\n",
    "# read the data\n",
    "gedi=gediL4A(gediName)\n",
    "\n",
    "# filter out poor quality data\n",
    "gedi.filterQuality()"
   ]
  },
  {
   "cell_type": "markdown",
   "id": "cd389f5c",
   "metadata": {},
   "source": [
    "Now load the PALSAR data and check that it looks sensible. The files are large and this may take a minute.\n",
    "\n",
    "*Do these figures match those you have in QGIS?*"
   ]
  },
  {
   "cell_type": "code",
   "execution_count": null,
   "id": "5d41407d",
   "metadata": {},
   "outputs": [],
   "source": [
    "# import libraries\n",
    "import rasterio\n",
    "import matplotlib.pyplot as plt\n",
    "\n",
    "# open the two files\n",
    "palsarHHname='/Users/dougal/data/teaching/active_sensing/10_fusion/palsar/merged_HH.tif'\n",
    "palsarHVname='/Users/dougal/data/teaching/active_sensing/10_fusion/palsar/merged_HV.tif'\n",
    "palsarHH=palsar(palsarHHname)\n",
    "palsarHV=palsar(palsarHVname)\n",
    "\n",
    "\n",
    "# plot to the screen for sanity check\n",
    "palsarHH.plotImage(graphTitle='PALSAR-2 HH backscatter')\n",
    "palsarHV.plotImage(graphTitle='PALSAR-2 HV backscatter')\n"
   ]
  },
  {
   "cell_type": "markdown",
   "id": "20c2a2ad",
   "metadata": {},
   "source": [
    "## Determining the relationship\n",
    "\n",
    "We have points of AGBD estimates from GEDI and a raster of backscatter from PALSAR-2. Is there a useful relationship between one and the other? To test this we need to make a table of GEDI AGBD values and backscatter from the corresponding PALSAR-2 pixels.\n",
    "\n",
    "Run the code below to make a plot and determine the linear correlation.\n",
    "\n",
    "*Which layer has the higher correlation? Why do you think that is, based on your understanding of radars?*"
   ]
  },
  {
   "cell_type": "code",
   "execution_count": null,
   "id": "05d10073",
   "metadata": {},
   "outputs": [],
   "source": [
    "# make a table from the two datasets\n",
    "mergedData=dataTable(gedi,palsarHH,palsarHV)\n",
    "\n",
    "# plot that table up\n",
    "mergedData.plotHH()\n",
    "mergedData.plotHV()\n",
    "\n",
    "# determine linear correlation\n",
    "mergedData.correlHH()\n",
    "mergedData.correlHV()"
   ]
  },
  {
   "cell_type": "markdown",
   "id": "792e23df",
   "metadata": {},
   "source": [
    "## Machine learning\n",
    "\n",
    "The relationship is not entirely clear. Machine learning is a useful for finding the best relationship between a variable of interest and multiple variables of interest. Here we will use it to predict AGBD from a combination of PALSAR-2 HH and HV backscatter.\n",
    "\n",
    "We will use the random forest algoithm as implemented in the sklearn python package. The code below will split the data into a training and a validate set, then train a model to predict GEDI's AGBD from PALSAR with the table of data we have extracted and then predict biomass across all of the PALSAR data.\n",
    "\n",
    "*Does the scatterplot look accurate?*"
   ]
  },
  {
   "cell_type": "code",
   "execution_count": null,
   "id": "caa83d9a",
   "metadata": {},
   "outputs": [],
   "source": [
    "# parameters for our RF\n",
    "n_estimators=200\n",
    "max_depth=None\n",
    "\n",
    "# split into 70% training, 30% validation\n",
    "mergedData.splitData(trainFrac=0.7)\n",
    "\n",
    "# calibrate the model\n",
    "mergedData.buildRF(n_estimators,max_depth)\n",
    "    \n",
    "# predict the model\n",
    "mergedData.predict()\n",
    "\n",
    "# make a scatterpot of all predicted versus GEDI AGBD\n",
    "mergedData.scatterAll()"
   ]
  },
  {
   "cell_type": "markdown",
   "id": "af913342",
   "metadata": {},
   "source": [
    "## Validation\n",
    "\n",
    "Our scatterpot gives us an idea, but we must validate our model with data indepdent from that used to train. The command below will use the 30% of the data we have reserved to calculate some standard error metrics.\n",
    "\n",
    "*Is this a useful model? What could be done to improve it? Try changing the RF settings and rerunning. What pre-processing could you try on the PALSAR or GEDI data?*"
   ]
  },
  {
   "cell_type": "code",
   "execution_count": null,
   "id": "dc3ceccc",
   "metadata": {},
   "outputs": [],
   "source": [
    "# validate\n",
    "mergedData.validateRF()"
   ]
  },
  {
   "cell_type": "markdown",
   "id": "2453193e",
   "metadata": {},
   "source": [
    "The properties of the data are likely to influence the accuracy. Things to look out for are saturation, errors as a function of slope (needs a DEM) and errors as a function of signal strength. We have the data to do the first and last here. For signal strength, lidar beam sensitivity is likely to affect the accuracy. Check that by running the code below. "
   ]
  },
  {
   "cell_type": "code",
   "execution_count": null,
   "id": "fa4810af",
   "metadata": {},
   "outputs": [],
   "source": [
    "# check accuracy as a function of GEDI sensitivity\n",
    "mergedData.plotError()"
   ]
  },
  {
   "cell_type": "markdown",
   "id": "3c1bdecc",
   "metadata": {},
   "source": [
    "## Produce a map\n",
    "\n",
    "We now have a model that can be applied to any PALSAR-2 data to map biomass. Running the code below will produce a biomass map from the whole PALSAR-2 scene. This may take a while to run."
   ]
  },
  {
   "cell_type": "code",
   "execution_count": null,
   "id": "3da20a1b",
   "metadata": {},
   "outputs": [],
   "source": [
    "mergedData.mapAll()"
   ]
  },
  {
   "cell_type": "markdown",
   "id": "c2af521e",
   "metadata": {},
   "source": [
    "## Spatial validation\n",
    "\n",
    "The above randomly selected footprints from within the GEDI flightline. This means that the calibration and validation data overlap in space and time. It is a more stringent test of a model to validate the data at a different space and time to where it was calibrated. That can be done by splitting the training and validation data spatially. The code below splits the data by latitude.\n",
    "\n",
    "*What does this do to the accuracy results?*"
   ]
  },
  {
   "cell_type": "code",
   "execution_count": null,
   "id": "57067ea5",
   "metadata": {},
   "outputs": [],
   "source": [
    "# parameters for our RF\n",
    "n_estimators=200\n",
    "max_depth=None\n",
    "\n",
    "# split into 70% training, 30% validation\n",
    "mergedData.splitSpatially(trainFrac=0.7)\n",
    "\n",
    "# calibrate the model\n",
    "mergedData.buildRF(n_estimators,max_depth)\n",
    "\n",
    "# validate\n",
    "mergedData.validateRF()"
   ]
  },
  {
   "cell_type": "markdown",
   "id": "288f8366",
   "metadata": {},
   "source": [
    "## Multiple GEDI files\n",
    "\n",
    "Up until now we have read a single GEDI file. We could repeat the process with multiple GEDI files."
   ]
  },
  {
   "cell_type": "code",
   "execution_count": null,
   "id": "82ada406",
   "metadata": {},
   "outputs": [],
   "source": [
    "# read all GEDI files in a directory\n",
    "from gediL4Areader import gediL4Amulti\n",
    "\n",
    "# specify directory and filename root\n",
    "gediDir='/Users/dougal/data/teaching/active_sensing/10_fusion/gedi/L4A'\n",
    "gediRoot='small.GEDI04_A'\n",
    "\n",
    "# read all GEDI data in that directory\n",
    "gediAll=gediL4Amulti(gediDir,gediRoot)\n",
    "\n",
    "# filter\n",
    "gediAll.filterQuality()"
   ]
  },
  {
   "cell_type": "markdown",
   "id": "f6c2ed58",
   "metadata": {},
   "source": [
    "We could then repeat the calibration and validation process with this much larger dataset. This will take some time to run."
   ]
  },
  {
   "cell_type": "code",
   "execution_count": null,
   "id": "1fa93779",
   "metadata": {},
   "outputs": [],
   "source": [
    "# make table of GEDI and PALSAR data\n",
    "mergedData=dataTable(gediAll,palsarHH,palsarHV)\n",
    "\n",
    "# parameters for our RF\n",
    "n_estimators=200\n",
    "max_depth=None\n",
    "\n",
    "# split into 70% training, 30% validation\n",
    "mergedData.splitSpatially(trainFrac=0.7)\n",
    "\n",
    "# calibrate the model\n",
    "mergedData.buildRF(n_estimators,max_depth)\n",
    "\n",
    "# validate\n",
    "mergedData.validateRF()"
   ]
  },
  {
   "cell_type": "code",
   "execution_count": null,
   "id": "9efb08a5",
   "metadata": {},
   "outputs": [],
   "source": []
  }
 ],
 "metadata": {
  "kernelspec": {
   "display_name": "Python 3 (ipykernel)",
   "language": "python",
   "name": "python3"
  },
  "language_info": {
   "codemirror_mode": {
    "name": "ipython",
    "version": 3
   },
   "file_extension": ".py",
   "mimetype": "text/x-python",
   "name": "python",
   "nbconvert_exporter": "python",
   "pygments_lexer": "ipython3",
   "version": "3.9.12"
  }
 },
 "nbformat": 4,
 "nbformat_minor": 5
}
