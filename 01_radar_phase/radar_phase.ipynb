{
 "cells": [
  {
   "cell_type": "markdown",
   "id": "9ad0e68c",
   "metadata": {},
   "source": [
    "# Radar phase\n",
    "\n",
    "This notebook demonstrates how phase of EM radiation can be used by radars. The first two panels repeat what we did in the excel workbook in python. The last allows you to create a full interference field. All the functions needed for this exercise are written in the **phaseLib.py** file in this directrory.\n",
    "\n",
    "First, let's plot some waves. You can change the wavelength, phase and amplitude by altering the numbers on the first three lines (Amplitude **A**, wavelength **l** and phase **p**). To plot the wave, click on the cell and press the **Run** button at the top of the page."
   ]
  },
  {
   "cell_type": "code",
   "execution_count": null,
   "id": "2ce27995",
   "metadata": {},
   "outputs": [],
   "source": [
    "# import functions needed\n",
    "from phaseLib import *\n",
    "\n",
    "# the properties of the wave\n",
    "A=1.0   # amplitude\n",
    "l=0.2   # wavelength in metres\n",
    "p=0.0   # phase in degrees\n",
    "\n",
    "\n",
    "x,y=makeWave(A,l,p)\n",
    "plotOneWave(x,y)"
   ]
  },
  {
   "cell_type": "markdown",
   "id": "086a2725",
   "metadata": {},
   "source": [
    "## Interference\n",
    "\n",
    "Now we will make two waveforms and interfere them. The two waves have the properties A1, l1, p1 and A3, l2 and p2."
   ]
  },
  {
   "cell_type": "code",
   "execution_count": null,
   "id": "fbf7798a",
   "metadata": {},
   "outputs": [],
   "source": [
    "# the properties of  wave 1\n",
    "A1=1.0   # amplitude\n",
    "l1=0.2   # wavelength in metres\n",
    "p1=0.0   # phase in degrees\n",
    "\n",
    "# the properties of  wave 2\n",
    "A2=1.0   # amplitude\n",
    "l2=0.2   # wavelength in metres\n",
    "p2=90.0  # phase in degrees\n",
    "\n",
    "\n",
    "# make the two waves\n",
    "x1,y1=makeWave(A1,l1,p1)\n",
    "x2,y2=makeWave(A2,l2,p2)\n",
    "\n",
    "# interfere them\n",
    "xI,yI=interfereWaves(x1,y1,x2,y2)\n",
    "\n",
    "\n",
    "# Plot results    \n",
    "plotThreeWaves(x1,x2,xI,y1,y2,yI) "
   ]
  },
  {
   "cell_type": "markdown",
   "id": "c617fa72",
   "metadata": {},
   "source": [
    "## 2D interference\n",
    "\n",
    "The 1D examples above are helpful for seeing how two waves interact. In reality we will have many emitters or reflectors with the signal combining to make the 2D image. The code below shows how the EM radiation from multiple would combine to form a field strength pattern.\n",
    "\n",
    "Note that the functions below plot the absolute elect4ric field strength, so that negative electric fields are shown bright. This will create two bright rings per wavelength."
   ]
  },
  {
   "cell_type": "code",
   "execution_count": null,
   "id": "267d8780",
   "metadata": {},
   "outputs": [],
   "source": [
    "# define the number of EM sources and the total extent they are spread over (D, aperture size)\n",
    "N=1\n",
    "D=1\n",
    "\n",
    "# define the EM properties. Phase is the total phase shift from one end to the other\n",
    "A=1.0   # amplitude\n",
    "l=2   # wavelength in metres\n",
    "p=0   # phase differnce in degrees between each emitter\n",
    "\n",
    "\n",
    "    \n",
    "    \n",
    "# make the plot\n",
    "plotInterference(N,D,A,l,p)"
   ]
  },
  {
   "cell_type": "markdown",
   "id": "d1e751f1",
   "metadata": {},
   "source": [
    "## Multiple emitters\n",
    "\n",
    "In the box below, try changing the number of emitters (**N**), the aperature size (**D**), the wavelength (**l**) and the phase difference between emitters (**p**) to answer the following questions.\n",
    "\n",
    "1. What happens when you have two emitters separated by less than half the wavelength?\n",
    "2. What happens when you have two emitters separated by more than half the wavelength?\n",
    "3. What happens when you have many emitters?\n",
    "4. What happens when you make the wavelength larger than the aperture?\n",
    "\n",
    "Make an aperture larger than the wavelength with many emitters.\n",
    "\n",
    "5. What happens when you adjust the phase angle?\n",
    "6. Can you make it scan in all directions?\n",
    "\n",
    "\n"
   ]
  },
  {
   "cell_type": "code",
   "execution_count": null,
   "id": "dd5ce9c9",
   "metadata": {},
   "outputs": [],
   "source": [
    "# define the number of EM sources and the total extent they are spread over (D, aperture size)\n",
    "N=2\n",
    "D=1\n",
    "\n",
    "# define the EM properties. Phase is the total phase shift from one end to the other\n",
    "A=1.0   # amplitude\n",
    "l=5   # wavelength in metres\n",
    "p=0   # phase differnce in degrees between each emitter\n",
    "\n",
    "# make the plot\n",
    "plotInterference(N,D,A,l,p)"
   ]
  },
  {
   "cell_type": "code",
   "execution_count": null,
   "id": "5d15ebca",
   "metadata": {},
   "outputs": [],
   "source": []
  }
 ],
 "metadata": {
  "kernelspec": {
   "display_name": "Python 3 (ipykernel)",
   "language": "python",
   "name": "python3"
  },
  "language_info": {
   "codemirror_mode": {
    "name": "ipython",
    "version": 3
   },
   "file_extension": ".py",
   "mimetype": "text/x-python",
   "name": "python",
   "nbconvert_exporter": "python",
   "pygments_lexer": "ipython3",
   "version": "3.9.12"
  }
 },
 "nbformat": 4,
 "nbformat_minor": 5
}
