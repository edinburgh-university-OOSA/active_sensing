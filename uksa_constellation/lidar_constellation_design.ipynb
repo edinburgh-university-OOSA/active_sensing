{
 "cells": [
  {
   "cell_type": "markdown",
   "id": "bec2d123-4bf2-452b-93a0-d37e7c7a9c52",
   "metadata": {},
   "source": [
    "# Design a lidar constellation\n",
    "\n",
    "This script uses a Global Lidar System script to look at tradeoffs when designing a lidar system. The theory is described in this [paper](https://royalsocietypublishing.org/doi/abs/10.1098/rsos.211166) and the code is available in this [repository](https://github.com/sthancock/gls_planner).\n",
    "\n",
    "**You must save the \"glsPlanner.py\" script in the same directory as this jupyter notebook for this practical to run.**\n",
    "\n",
    "The script below shows an example of running the script with some potential settings."
   ]
  },
  {
   "cell_type": "code",
   "execution_count": null,
   "id": "41c4867e-a987-48fe-9118-dedf84438288",
   "metadata": {},
   "outputs": [],
   "source": [
    "# import the GLS planner class\n",
    "from glsPlanner import lidar,photToE,runGLS\n",
    "from math import pi\n",
    "\n",
    "\n",
    "# define a function to\n",
    "\n",
    "# some default lidar satellite values. These are taken from GEDI but can be edited to represent any lidar\n",
    "A=pi*0.4**2       # 80 cm diameter telescope\n",
    "wavel=1064*10**-9 # 1064 nm wavelength\n",
    "Edet=photToE(3000,lam=wavel)  # energy detected for an accurate measuerment, 3000 photons converted in to Joules\n",
    "Le=0.05           # 5% laser efficiency\n",
    "res=30            # 30 m ground resolution\n",
    "h=410000          # 410 km\n",
    "Q=0.5             # detector quantum efficiency\n",
    "Ppay=60.423       # power going to the lasers (payload power)\n",
    "samp=0.029        # 2.9% sampling in a single overpass\n",
    "Psigma=0.9        # 0.9 m pulse width as sigma\n",
    "optEff=0.95       # 95 % optical efficiency\n",
    "pointErr=0        # ignore geolocation error for now\n",
    "dutyCyc=1         # 100% duty cycle\n",
    "cFrac=0.55        # 55% cloud cover, the global average\n",
    "obsProb=0.8       # 80% probability if at least 1 cloud free observation per point on the ground\n",
    "tRes=5            # 5 year repeat coverage\n",
    "lat=0             # the equator, where orbital coverage is worse\n",
    "\n",
    "\n",
    "# Run the GLS and output results\n",
    "thisLidar=runGLS(A,Edet,Le,res,h,Q,Ppay,samp,Psigma,optEff,pointErr,dutyCyc,cFrac,obsProb,tRes,lat,-1)\n",
    "\n"
   ]
  },
  {
   "cell_type": "markdown",
   "id": "0747be4f-5ca2-4250-bfbe-a52a3f406f27",
   "metadata": {},
   "source": [
    "## Currently in orbit technology\n",
    "\n",
    "Try adding the parameters for ICEsat-2 and see how many of these are needed to achieve 100% coverage once every year. These parameters are available in the ICESat-2 mission paper and in the table shown in the slides (taken from [Hancock et al 2021](https://royalsocietypublishing.org/doi/abs/10.1098/rsos.211166))."
   ]
  },
  {
   "cell_type": "code",
   "execution_count": null,
   "id": "a37ac90b-8a7e-4881-bec2-595f35bb7400",
   "metadata": {},
   "outputs": [],
   "source": [
    "# modify these parameters to match ICEsat-2's\n",
    "A=pi*0.4**2       # 80 cm diameter telescope\n",
    "wavel=1064*10**-9 # 1064 nm wavelength\n",
    "Edet=photToE(3000,lam=wavel)  # energy detected for an accurate measuerment, 3000 photons converted in to Joules\n",
    "Le=0.05           # 5% laser efficiency\n",
    "res=30            # 30 m ground resolution\n",
    "h=410000          # 410 km\n",
    "Q=0.5             # detector quantum efficiency\n",
    "Ppay=60.423       # power going to the lasers (payload power)\n",
    "samp=1            # 100% sampling in a single overpass\n",
    "Psigma=0.9        # 0.9 m pulse width as sigma\n",
    "optEff=0.95       # 95 % optical efficiency\n",
    "pointErr=0        # ignore geolocation error\n",
    "dutyCyc=1         # 100% duty cycle\n",
    "cFrac=0.55        # 55% cloud cover, the global average\n",
    "obsProb=0.8       # 80% probability if at least 1 cloud free observation per point on the ground\n",
    "tRes=1            # 1 year repeat coverage\n",
    "lat=0             # the equator, where orbital coverage is worse\n",
    "\n",
    "\n",
    "# Run the GLS and output results\n",
    "thisLidar=runGLS(A,Edet,Le,res,h,Q,Ppay,samp,Psigma,optEff,pointErr,dutyCyc,cFrac,obsProb,tRes,lat,-1)\n"
   ]
  },
  {
   "cell_type": "markdown",
   "id": "0be6c3ce-d245-4ca0-9ed8-ac47f723bbbc",
   "metadata": {},
   "source": [
    "How much would this constellation cost, if each ICEsat-2 satellite costs around $750 million?\n",
    "\n",
    "\n",
    "## Design a system\n",
    "\n",
    "We have had breakthroughs in laser effieciency and detector sensitivity. New systems are achieving laser efficiencies of 10% and detector improvements mean that we can achieve accurate measurements with only 200 photons.\n",
    "\n",
    "Update the parameters and see what this could do to the constellation cost? As a guide you can use the parameters from either the NASA [EDGE](https://edge.ucsd.edu) or the UK's [GLAMIS](https://www.mdpi.com/2072-4292/14/10/2426) missions."
   ]
  },
  {
   "cell_type": "code",
   "execution_count": null,
   "id": "a3593b1e-a9f9-4b53-9cd0-42aa91ef3acd",
   "metadata": {},
   "outputs": [],
   "source": [
    "# modify these parameters for a modern system\n",
    "A=pi*0.4**2       # 80 cm diameter telescope\n",
    "wavel=1064*10**-9 # 1064 nm wavelength\n",
    "Edet=photToE(3000,lam=wavel)  # energy detected for an accurate measuerment, 3000 photons converted in to Joules\n",
    "Le=0.05           # 5% laser efficiency\n",
    "res=30            # 30 m ground resolution\n",
    "h=410000          # 410 km\n",
    "Q=0.5             # detector quantum efficiency\n",
    "Ppay=60.423       # power going to the lasers (payload power)\n",
    "samp=1            # 100% sampling in a single overpass\n",
    "Psigma=0.9        # 0.9 m pulse width as sigma\n",
    "optEff=0.95       # 95 % optical efficiency\n",
    "pointErr=0        # ignore geolocation errordutyCyc=1         # 100% duty cycle\n",
    "cFrac=0.55        # 55% cloud cover, the global average\n",
    "obsProb=0.8       # 80% probability if at least 1 cloud free observation per point on the ground\n",
    "tRes=1            # 5 year repeat coverage\n",
    "lat=0             # the equator, where orbital coverage is worse\n",
    "\n",
    "\n",
    "# Run the GLS and output results\n",
    "thisLidar=runGLS(A,Edet,Le,res,h,Q,Ppay,samp,Psigma,optEff,pointErr,dutyCyc,cFrac,obsProb,tRes,lat,-1)\n"
   ]
  },
  {
   "cell_type": "markdown",
   "id": "298fe837-85a5-4996-9dc4-1983dd330d5e",
   "metadata": {},
   "source": [
    "## Conclusions\n",
    "\n",
    "As you can see, some of the parameters have a greater impact on the constellation size needed than others. What is missing here is an estimate of the cost of changing the parameter. For example, reducing the height to below 500 km will limit the lifetime of the mission due to atmospheric drag, requiring either more frequent replacement (buying more satellites) or else expensive [propulsion systems](https://link.springer.com/article/10.1007/s12567-022-00427-2). Other pieces have physical limits, such as the the detector and laser efficiencies which cannot be rasied above 1.\n",
    "\n",
    "Look through the literature to see what might be the most cost-effective way to build a lidar satellite constellation.\n"
   ]
  }
 ],
 "metadata": {
  "kernelspec": {
   "display_name": "Python 3 (ipykernel)",
   "language": "python",
   "name": "python3"
  },
  "language_info": {
   "codemirror_mode": {
    "name": "ipython",
    "version": 3
   },
   "file_extension": ".py",
   "mimetype": "text/x-python",
   "name": "python",
   "nbconvert_exporter": "python",
   "pygments_lexer": "ipython3",
   "version": "3.9.12"
  }
 },
 "nbformat": 4,
 "nbformat_minor": 5
}
